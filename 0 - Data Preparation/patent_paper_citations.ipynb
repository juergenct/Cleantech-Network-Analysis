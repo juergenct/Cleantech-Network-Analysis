{
 "cells": [
  {
   "cell_type": "code",
   "execution_count": 10,
   "metadata": {},
   "outputs": [],
   "source": [
    "import gc\n",
    "import pandas as pd\n",
    "from sqlalchemy import create_engine, URL\n",
    "from tqdm import tqdm"
   ]
  },
  {
   "cell_type": "code",
   "execution_count": 11,
   "metadata": {},
   "outputs": [],
   "source": [
    "df_patstat = pd.read_json('/mnt/hdd01/PATSTAT Working Directory/PATSTAT/df_patstat_cleantech_granted_abstract_metadata.json')\n",
    "df_rel_on_science = pd.read_json('/mnt/hdd01/patentsview/Reliance on Science - Cleantech Patents/df_oaid_cleantech_lang_detect_yake_title_abstract_noun_chunks.json')\n",
    "df_rel_pcs = pd.read_csv(\"/mnt/hdd01/Reliance on Science/Raw Files/_pcs_oa.csv\")"
   ]
  },
  {
   "cell_type": "code",
   "execution_count": 12,
   "metadata": {},
   "outputs": [],
   "source": [
    "df_rel_pcs['patent_id_prefix'] = df_rel_pcs['patent'].apply(lambda x: x.split('-')[0])\n",
    "df_rel_pcs['patent_id'] = df_rel_pcs['patent'].apply(lambda x: '-'.join(x.split('-')[1:-1]))\n",
    "df_rel_pcs = df_rel_pcs[df_rel_pcs['patent_id_prefix'].isin(['us', 'ep'])]\n",
    "df_rel_pcs = df_rel_pcs[df_rel_pcs['oaid'].isin(df_rel_on_science['oaid'])]"
   ]
  },
  {
   "cell_type": "code",
   "execution_count": 13,
   "metadata": {},
   "outputs": [],
   "source": [
    "patstat_url_object = URL.create(\n",
    "    drivername=\"postgresql+psycopg2\",\n",
    "    username=\"tie\",\n",
    "    password=\"TIE%2023!tuhh\",\n",
    "    host=\"134.28.58.100\",\n",
    "    port=\"65432\",\n",
    "    database=\"PATSTAT_2023\",\n",
    ")\n",
    "engine = create_engine(patstat_url_object)"
   ]
  },
  {
   "cell_type": "code",
   "execution_count": 14,
   "metadata": {},
   "outputs": [
    {
     "data": {
      "text/plain": [
       "607"
      ]
     },
     "execution_count": 14,
     "metadata": {},
     "output_type": "execute_result"
    }
   ],
   "source": [
    "df_rel_pcs['patent_id_prefix'] = df_rel_pcs['patent_id_prefix'].apply(lambda x: x.upper())\n",
    "df_rel_pcs.to_sql('temp_df_rel_pcs', engine, if_exists='replace', index=False)"
   ]
  },
  {
   "cell_type": "code",
   "execution_count": 15,
   "metadata": {},
   "outputs": [],
   "source": [
    "query = \"\"\"\n",
    "SELECT temp.patent_id, temp.patent_id_prefix, publn.appln_id\n",
    "FROM temp_df_rel_pcs AS temp\n",
    "INNER JOIN tls211_pat_publn AS publn\n",
    "ON temp.patent_id = publn.publn_nr AND temp.patent_id_prefix = publn.publn_auth\n",
    "\"\"\"\n",
    "df_result = pd.read_sql_query(query, engine)"
   ]
  },
  {
   "cell_type": "code",
   "execution_count": 16,
   "metadata": {},
   "outputs": [],
   "source": [
    "df_result['patent_id_prefix_patent_id'] = df_result['patent_id_prefix'] + '-' + df_result['patent_id']\n",
    "df_rel_pcs['patent_id_prefix_patent_id'] = df_rel_pcs['patent_id_prefix'] + '-' + df_rel_pcs['patent_id']\n",
    "df_rel_pcs.drop(columns=['patent', 'wherefound', 'confscore', 'self', 'reftype'], inplace=True)"
   ]
  },
  {
   "cell_type": "code",
   "execution_count": 17,
   "metadata": {},
   "outputs": [
    {
     "data": {
      "text/plain": [
       "(13363607, 15258239)"
      ]
     },
     "execution_count": 17,
     "metadata": {},
     "output_type": "execute_result"
    }
   ],
   "source": [
    "len(df_rel_pcs), len(df_result)"
   ]
  },
  {
   "cell_type": "code",
   "execution_count": 18,
   "metadata": {},
   "outputs": [],
   "source": [
    "# df_rel_pcs.to_csv('/mnt/hdd01/Cleantech Network Analysis/df_rel_pcs.csv', index=False)\n",
    "# df_result.to_csv('/mnt/hdd01/Cleantech Network Analysis/df_patstat.csv', index=False)"
   ]
  },
  {
   "cell_type": "code",
   "execution_count": 21,
   "metadata": {},
   "outputs": [],
   "source": [
    "df_result = df_result[['patent_id_prefix_patent_id', 'appln_id']]\n",
    "df_rel_pcs = df_rel_pcs[['oaid', 'patent_id_prefix_patent_id']]\n",
    "\n",
    "df_result.set_index('patent_id_prefix_patent_id', inplace=True)\n",
    "df_rel_pcs.set_index('patent_id_prefix_patent_id', inplace=True)\n",
    "\n",
    "df_rel_pcs = df_rel_pcs.join(df_result, how='left')\n",
    "\n",
    "df_rel_pcs.reset_index(inplace=True)"
   ]
  },
  {
   "cell_type": "code",
   "execution_count": 24,
   "metadata": {},
   "outputs": [],
   "source": [
    "df_rel_pcs.drop_duplicates(subset=['oaid', 'appln_id'], inplace=True)"
   ]
  },
  {
   "cell_type": "code",
   "execution_count": 32,
   "metadata": {},
   "outputs": [],
   "source": [
    "df_rel_pcs.to_csv('/mnt/hdd01/Cleantech Network Analysis/df_rel_pcs_patstat.csv', index=False)"
   ]
  }
 ],
 "metadata": {
  "kernelspec": {
   "display_name": "venv",
   "language": "python",
   "name": "python3"
  },
  "language_info": {
   "codemirror_mode": {
    "name": "ipython",
    "version": 3
   },
   "file_extension": ".py",
   "mimetype": "text/x-python",
   "name": "python",
   "nbconvert_exporter": "python",
   "pygments_lexer": "ipython3",
   "version": "3.10.0"
  }
 },
 "nbformat": 4,
 "nbformat_minor": 2
}
