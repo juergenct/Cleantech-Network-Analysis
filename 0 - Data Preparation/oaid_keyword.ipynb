{
 "cells": [
  {
   "cell_type": "code",
   "execution_count": null,
   "metadata": {},
   "outputs": [],
   "source": [
    "import re\n",
    "import nltk\n",
    "# import cudf.pandas\n",
    "# cudf.pandas.install()\n",
    "import pandas as pd\n",
    "from tqdm import tqdm \n",
    "tqdm.pandas()\n",
    "\n",
    "lemmatizer = nltk.stem.WordNetLemmatizer()\n",
    "from sklearn.feature_extraction.text import CountVectorizer"
   ]
  },
  {
   "cell_type": "markdown",
   "metadata": {},
   "source": [
    "# Load Data"
   ]
  },
  {
   "cell_type": "code",
   "execution_count": null,
   "metadata": {},
   "outputs": [],
   "source": [
    "df_cleantech_keywords = pd.read_json(\"/home/thiesen/Documents/Cleantech_Concepts/cleantech_keywords_similarity_015_co_occurrence_025_claim_fulltext.json\")"
   ]
  },
  {
   "cell_type": "code",
   "execution_count": null,
   "metadata": {},
   "outputs": [],
   "source": [
    "df_rel_on_science = pd.read_json('/mnt/hdd01/patentsview/Reliance on Science - Cleantech Patents/df_oaid_cleantech_lang_detect_yake_title_abstract_noun_chunks.json')"
   ]
  },
  {
   "cell_type": "code",
   "execution_count": null,
   "metadata": {},
   "outputs": [],
   "source": [
    "df_rel_on_science['title_abstract'] = df_rel_on_science['title'].str.lower() + ' ' + df_rel_on_science['abstract'].str.lower()\n",
    "df_rel_on_science['title_abstract_lemma'] = df_rel_on_science['title_abstract'].apply(lambda x: ' '.join([lemmatizer.lemmatize(word) for word in x.split()]))"
   ]
  },
  {
   "cell_type": "markdown",
   "metadata": {},
   "source": [
    "# Build Document-Term Matrix"
   ]
  },
  {
   "cell_type": "code",
   "execution_count": null,
   "metadata": {},
   "outputs": [],
   "source": [
    "ngrams = df_cleantech_keywords['keyword_yake_lemma'].tolist()\n",
    "documents = df_rel_on_science['title_abstract_lemma'].tolist()"
   ]
  },
  {
   "cell_type": "code",
   "execution_count": null,
   "metadata": {},
   "outputs": [],
   "source": [
    "def custom_tokenizer(text, ngrams):\n",
    "    pattern = '|'.join(re.escape(phrase) for phrase in ngrams)\n",
    "    tokens = []\n",
    "    last_end = 0\n",
    "    for match in re.finditer(pattern, text):\n",
    "        tokens.extend(text[last_end:match.start()].split())\n",
    "        tokens.append(match.group(0))\n",
    "        last_end = match.end()\n",
    "    tokens.extend(text[last_end:].split())\n",
    "    return tokens"
   ]
  },
  {
   "cell_type": "code",
   "execution_count": null,
   "metadata": {},
   "outputs": [],
   "source": [
    "def tokenizer_wrapper(text):\n",
    "    return custom_tokenizer(text, ngrams)"
   ]
  },
  {
   "cell_type": "code",
   "execution_count": null,
   "metadata": {},
   "outputs": [],
   "source": [
    "vectorizer = CountVectorizer(tokenizer=tokenizer_wrapper, vocabulary=ngrams)"
   ]
  },
  {
   "cell_type": "code",
   "execution_count": null,
   "metadata": {},
   "outputs": [],
   "source": [
    "oaid_cleantech_dtm = vectorizer.fit_transform(documents)"
   ]
  },
  {
   "cell_type": "code",
   "execution_count": null,
   "metadata": {},
   "outputs": [],
   "source": [
    "df_oaid_cleantech_dtm = pd.DataFrame(oaid_cleantech_dtm.toarray(), columns=vectorizer.get_feature_names_out())\n",
    "df_oaid_cleantech_dtm.reset_index(drop=True, inplace=True)\n",
    "df_rel_on_science.reset_index(drop=True, inplace=True)\n",
    "df_oaid_cleantech_dtm.insert(0, 'oaid', df_rel_on_science['oaid'])"
   ]
  },
  {
   "cell_type": "code",
   "execution_count": null,
   "metadata": {},
   "outputs": [],
   "source": [
    "df_oaid_cleantech_dtm.to_csv('/mnt/hdd01/Cleantech Network Analysis/df_oaid_cleantech_dtm.csv', index=False)"
   ]
  }
 ],
 "metadata": {
  "kernelspec": {
   "display_name": "venv",
   "language": "python",
   "name": "python3"
  },
  "language_info": {
   "codemirror_mode": {
    "name": "ipython",
    "version": 3
   },
   "file_extension": ".py",
   "mimetype": "text/x-python",
   "name": "python",
   "nbconvert_exporter": "python",
   "pygments_lexer": "ipython3",
   "version": "3.10.0"
  }
 },
 "nbformat": 4,
 "nbformat_minor": 2
}
