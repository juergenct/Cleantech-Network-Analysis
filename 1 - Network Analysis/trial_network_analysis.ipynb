{
 "cells": [
  {
   "cell_type": "code",
   "execution_count": 16,
   "metadata": {},
   "outputs": [],
   "source": [
    "import random\n",
    "import pandas as pd\n",
    "import networkx as nx\n",
    "import matplotlib.pyplot as plt\n",
    "from tqdm import tqdm\n",
    "tqdm.pandas()"
   ]
  },
  {
   "cell_type": "code",
   "execution_count": 2,
   "metadata": {},
   "outputs": [
    {
     "name": "stderr",
     "output_type": "stream",
     "text": [
      "/tmp/ipykernel_567963/2384184794.py:1: DtypeWarning: Columns (3,4,6,7,9,10,11,12,13,14,15,16,17,18,19,20,21,22) have mixed types. Specify dtype option on import or set low_memory=False.\n",
      "  df_authors = pd.read_csv('/mnt/hdd01/Cleantech Network Analysis/df_authors.csv', dtype={'author_id': str, 'oaid': str, 'appln_id': str})\n"
     ]
    }
   ],
   "source": [
    "df_authors = pd.read_csv('/mnt/hdd01/Cleantech Network Analysis/df_authors.csv', dtype={'author_id': str, 'oaid': str, 'appln_id': str})\n",
    "df_authors = df_authors[['appln_id', 'oaid', 'author_id']]\n",
    "df_authors['author_id'] = df_authors['author_id'].replace(\"https://openalex.org/\", \"\", regex=True)\n",
    "df_authors['oaid'] = df_authors['oaid'].apply(lambda x: 'W' + str(x))\n",
    "\n",
    "df_rel_pcs = pd.read_csv('/mnt/hdd01/Cleantech Network Analysis/df_rel_pcs_patstat.csv', dtype={'appln_id': str, 'oaid': str})\n",
    "df_rel_pcs['oaid'] = df_rel_pcs['oaid'].apply(lambda x: 'W' + str(x))\n",
    "df_rel_pcs['appln_id'] = df_rel_pcs['appln_id'].apply(lambda x: 'P' + str(x))\n",
    "\n",
    "df_oaid_cleantech_dtm = pd.read_csv('/mnt/hdd01/Cleantech Network Analysis/df_oaid_cleantech_dtm.csv')\n",
    "df_oaid_cleantech_dtm['oaid'] = df_oaid_cleantech_dtm['oaid'].apply(lambda x: 'W' + str(x))\n",
    "\n",
    "df_patstat_cleantech_dtm = pd.read_csv('/mnt/hdd01/Cleantech Network Analysis/df_patstat_cleantech_dtm.csv')\n",
    "df_patstat_cleantech_dtm['appln_id'] = df_patstat_cleantech_dtm['appln_id'].apply(lambda x: 'P' + str(x))\n",
    "\n",
    "df_cleantech_keyword = pd.read_json(\"/home/thiesen/Documents/Cleantech_Concepts/cleantech_keywords_similarity_015_co_occurrence_025_claim_fulltext.json\")"
   ]
  },
  {
   "cell_type": "code",
   "execution_count": 3,
   "metadata": {},
   "outputs": [
    {
     "name": "stderr",
     "output_type": "stream",
     "text": [
      "100%|██████████| 13/13 [01:24<00:00,  6.53s/it]\n"
     ]
    }
   ],
   "source": [
    "chunk_size = 50000  # adjust this value based on your system's memory\n",
    "chunks = [x for x in range(0, df_patstat_cleantech_dtm.shape[0], chunk_size)]\n",
    "\n",
    "df_patstat_cleantech_edge_index = pd.DataFrame()\n",
    "\n",
    "for i in tqdm(range(len(chunks) - 1)):\n",
    "    chunk_start = chunks[i]\n",
    "    chunk_end = chunks[i + 1]\n",
    "    temp_df = df_patstat_cleantech_dtm.iloc[chunk_start:chunk_end]\n",
    "    temp_df_long = temp_df.melt(id_vars='appln_id', var_name='keyword_yake_lemma', value_name='occurrence')\n",
    "    temp_df_edges = temp_df_long[temp_df_long['occurrence'] == 1]\n",
    "    temp_df_edges = temp_df_edges.drop(columns='occurrence')\n",
    "    df_patstat_cleantech_edge_index = pd.concat([df_patstat_cleantech_edge_index, temp_df_edges])\n",
    "\n",
    "# handle the last chunk\n",
    "temp_df = df_patstat_cleantech_dtm.iloc[chunks[-1]:]\n",
    "temp_df_long = temp_df.melt(id_vars='appln_id', var_name='keyword_yake_lemma', value_name='occurrence')\n",
    "temp_df_edges = temp_df_long[temp_df_long['occurrence'] == 1]\n",
    "temp_df_edges = temp_df_edges.drop(columns='occurrence')\n",
    "df_patstat_cleantech_edge_index = pd.concat([df_patstat_cleantech_edge_index, temp_df_edges])"
   ]
  },
  {
   "cell_type": "code",
   "execution_count": 14,
   "metadata": {},
   "outputs": [
    {
     "name": "stderr",
     "output_type": "stream",
     "text": [
      "100%|██████████| 12/12 [01:21<00:00,  6.82s/it]\n"
     ]
    }
   ],
   "source": [
    "chunk_size = 50000  # adjust this value based on your system's memory\n",
    "chunks = [x for x in range(0, df_oaid_cleantech_dtm.shape[0], chunk_size)]\n",
    "\n",
    "df_oaid_cleantech_edge_index = pd.DataFrame()\n",
    "\n",
    "for i in tqdm(range(len(chunks) - 1)):\n",
    "    chunk_start = chunks[i]\n",
    "    chunk_end = chunks[i + 1]\n",
    "    temp_df = df_oaid_cleantech_dtm.iloc[chunk_start:chunk_end]\n",
    "    temp_df_long = temp_df.melt(id_vars='oaid', var_name='keyword_yake_lemma', value_name='occurrence')\n",
    "    temp_df_edges = temp_df_long[temp_df_long['occurrence'] == 1]\n",
    "    temp_df_edges = temp_df_edges.drop(columns='occurrence')\n",
    "    df_oaid_cleantech_edge_index = pd.concat([df_oaid_cleantech_edge_index, temp_df_edges])\n",
    "\n",
    "# handle the last chunk\n",
    "temp_df = df_oaid_cleantech_dtm.iloc[chunks[-1]:]\n",
    "temp_df_long = temp_df.melt(id_vars='oaid', var_name='keyword_yake_lemma', value_name='occurrence')\n",
    "temp_df_edges = temp_df_long[temp_df_long['occurrence'] == 1]\n",
    "temp_df_edges = temp_df_edges.drop(columns='occurrence')\n",
    "df_oaid_cleantech_edge_index = pd.concat([df_oaid_cleantech_edge_index, temp_df_edges])"
   ]
  },
  {
   "cell_type": "markdown",
   "metadata": {},
   "source": [
    "# Build Graph Model"
   ]
  },
  {
   "cell_type": "code",
   "execution_count": 12,
   "metadata": {},
   "outputs": [],
   "source": [
    "G = nx.Graph()"
   ]
  },
  {
   "cell_type": "code",
   "execution_count": 13,
   "metadata": {},
   "outputs": [],
   "source": [
    "for node in df_authors['author_id']:\n",
    "    G.add_node(node, node_type='author')\n",
    "\n",
    "for node in df_patstat_cleantech_dtm['appln_id']:\n",
    "    G.add_node(node, node_type='patent')\n",
    "\n",
    "for node in df_oaid_cleantech_dtm['oaid']:\n",
    "    G.add_node(node, node_type='paper')\n",
    "\n",
    "for node in df_cleantech_keyword['keyword_yake_lemma']:\n",
    "    G.add_node(node, node_type='keyword')"
   ]
  },
  {
   "cell_type": "code",
   "execution_count": 15,
   "metadata": {},
   "outputs": [],
   "source": [
    "G.add_edges_from(df_rel_pcs[['appln_id', 'oaid']].values)\n",
    "G.add_edges_from(df_authors[['appln_id', 'author_id']].values)\n",
    "G.add_edges_from(df_authors[['oaid', 'author_id']].values)\n",
    "G.add_edges_from(df_oaid_cleantech_edge_index[['oaid', 'keyword_yake_lemma']].values)\n",
    "G.add_edges_from(df_patstat_cleantech_edge_index[['appln_id', 'keyword_yake_lemma']].values)"
   ]
  },
  {
   "cell_type": "markdown",
   "metadata": {},
   "source": [
    "# Visualize Graph"
   ]
  },
  {
   "cell_type": "code",
   "execution_count": 17,
   "metadata": {},
   "outputs": [
    {
     "name": "stderr",
     "output_type": "stream",
     "text": [
      "/tmp/ipykernel_567963/940397786.py:2: DeprecationWarning: Sampling from a set deprecated\n",
      "since Python 3.9 and will be removed in a subsequent version.\n",
      "  sampled_nodes = random.sample(G.nodes(), sample_size)\n"
     ]
    }
   ],
   "source": [
    "sample_size = int(0.1 * len(G.nodes()))  # Adjust sample size as needed, here 10%\n",
    "sampled_nodes = random.sample(G.nodes(), sample_size)\n",
    "subgraph = G.subgraph(sampled_nodes)"
   ]
  },
  {
   "cell_type": "code",
   "execution_count": null,
   "metadata": {},
   "outputs": [],
   "source": [
    "plt.figure(figsize=(12, 12))\n",
    "pos = nx.spring_layout(subgraph, scale=2)  # Layout for the subgraph\n",
    "nx.draw(subgraph, pos, node_size=50, with_labels=False, font_weight='bold', node_color='skyblue')\n",
    "plt.title('Sampled Subgraph')\n",
    "plt.show()"
   ]
  },
  {
   "cell_type": "markdown",
   "metadata": {},
   "source": [
    "# Analyze Centrality Measures"
   ]
  },
  {
   "cell_type": "code",
   "execution_count": 19,
   "metadata": {},
   "outputs": [],
   "source": [
    "degree_centrality = nx.degree_centrality(G)"
   ]
  },
  {
   "cell_type": "code",
   "execution_count": 33,
   "metadata": {},
   "outputs": [],
   "source": [
    "# Get the list of keys to delete\n",
    "keys_to_delete = df_authors['author_id'].tolist() + df_oaid_cleantech_dtm['oaid'].tolist() + df_patstat_cleantech_dtm['appln_id'].tolist()\n",
    "\n",
    "# Delete the keys from the degree_centrality dictionary\n",
    "for key in keys_to_delete:\n",
    "    if key in degree_centrality:\n",
    "        del degree_centrality[key]"
   ]
  },
  {
   "cell_type": "code",
   "execution_count": 36,
   "metadata": {},
   "outputs": [
    {
     "name": "stdout",
     "output_type": "stream",
     "text": [
      "Top 10 nodes with highest degree centrality:\n",
      "Node: wit, Degree Centrality: 0.07498770271995357\n",
      "Node: ting, Degree Centrality: 0.0702554828005819\n",
      "Node: tha, Degree Centrality: 0.06995333351051293\n",
      "Node: ich, Degree Centrality: 0.06403059746264307\n",
      "Node: era, Degree Centrality: 0.060253622414902605\n",
      "Node: ons, Degree Centrality: 0.05992881737417236\n",
      "Node: ally, Degree Centrality: 0.05334492552575502\n",
      "Node: ist, Degree Centrality: 0.0499805465525572\n",
      "Node: low, Degree Centrality: 0.048390940662410585\n",
      "Node: lea, Degree Centrality: 0.04541715554436323\n",
      "Node: method, Degree Centrality: 0.045203015131863006\n",
      "Node: rate, Degree Centrality: 0.04388680315594607\n",
      "Node: present, Degree Centrality: 0.04204166653959114\n",
      "Node: high, Degree Centrality: 0.04051479965127572\n",
      "Node: tween, Degree Centrality: 0.04040326364802026\n",
      "Node: part, Degree Centrality: 0.03532859334365332\n",
      "Node: tal, Degree Centrality: 0.034864368298853754\n",
      "Node: pres, Degree Centrality: 0.03399081483585691\n",
      "Node: ratio, Degree Centrality: 0.03279006005080988\n",
      "Node: mic, Degree Centrality: 0.03209165296792512\n",
      "Node: system, Degree Centrality: 0.031548132795811125\n",
      "Node: based, Degree Centrality: 0.029225918353031493\n",
      "Node: rio, Degree Centrality: 0.028964723689157874\n",
      "Node: effect, Degree Centrality: 0.027591436649075058\n",
      "Node: tho, Degree Centrality: 0.026902614691470067\n",
      "Node: ria, Degree Centrality: 0.026805020688621544\n",
      "Node: main, Degree Centrality: 0.025822109659932826\n",
      "Node: mate, Degree Centrality: 0.02546615296204334\n",
      "Node: ric, Degree Centrality: 0.02517925273491944\n",
      "Node: car, Degree Centrality: 0.025167053484563374\n",
      "Node: process, Degree Centrality: 0.023752811818285195\n",
      "Node: direct, Degree Centrality: 0.023588993313503743\n",
      "Node: addition, Degree Centrality: 0.02340818299572634\n",
      "Node: eli, Degree Centrality: 0.023351979306585897\n",
      "Node: close, Degree Centrality: 0.022793645759039537\n",
      "Node: tate, Degree Centrality: 0.021523180971957847\n",
      "Node: ice, Degree Centrality: 0.02113999380452357\n",
      "Node: control, Degree Centrality: 0.021131715741781954\n",
      "Node: ape, Degree Centrality: 0.021072462240052492\n",
      "Node: tig, Degree Centrality: 0.020926289079536062\n",
      "Node: invention, Degree Centrality: 0.020216336277564317\n",
      "Node: temp, Degree Centrality: 0.01924257468664265\n",
      "Node: adi, Degree Centrality: 0.01903823724317855\n",
      "Node: sea, Degree Centrality: 0.01899815399200862\n",
      "Node: respect, Degree Centrality: 0.018843702768750574\n",
      "Node: stab, Degree Centrality: 0.01870319354589946\n",
      "Node: specific, Degree Centrality: 0.018622591356046887\n",
      "Node: orr, Degree Centrality: 0.018334384066384837\n",
      "Node: ming, Degree Centrality: 0.017830075770415336\n",
      "Node: dent, Degree Centrality: 0.01772877842370872\n",
      "Node: mini, Degree Centrality: 0.01749655697943076\n",
      "Node: cell, Degree Centrality: 0.017073286560826552\n",
      "Node: ism, Degree Centrality: 0.017066315560623085\n",
      "Node: mil, Degree Centrality: 0.01666744364273101\n",
      "Node: side, Degree Centrality: 0.016557214702013705\n",
      "Node: change, Degree Centrality: 0.016267482506057147\n",
      "Node: measure, Degree Centrality: 0.016246133817934032\n",
      "Node: bod, Degree Centrality: 0.0162348059426034\n",
      "Node: data, Degree Centrality: 0.01610540675132656\n",
      "Node: div, Degree Centrality: 0.015247755882543875\n",
      "Node: rob, Degree Centrality: 0.015011177563138746\n",
      "Node: nov, Degree Centrality: 0.014861301058764225\n",
      "Node: accord, Degree Centrality: 0.014775688462515408\n",
      "Node: design, Degree Centrality: 0.014706849835506181\n",
      "Node: unit, Degree Centrality: 0.01456873689397501\n",
      "Node: power, Degree Centrality: 0.014565687081385992\n",
      "Node: potential, Degree Centrality: 0.014565033550116917\n",
      "Node: sever, Degree Centrality: 0.01452603951772878\n",
      "Node: obtained, Degree Centrality: 0.01451427595488543\n",
      "Node: hus, Degree Centrality: 0.014086866504910417\n",
      "Node: ample, Degree Centrality: 0.014038287347242513\n",
      "Node: roc, Degree Centrality: 0.013868804904795744\n",
      "Node: air, Degree Centrality: 0.013762497151692886\n",
      "Node: report, Degree Centrality: 0.013585825865286293\n",
      "Node: dependent, Degree Centrality: 0.013350336764662955\n",
      "Node: ida, Degree Centrality: 0.013300668388213258\n",
      "Node: fine, Degree Centrality: 0.013234226042523974\n",
      "Node: operation, Degree Centrality: 0.012729046371529041\n",
      "Node: electric, Degree Centrality: 0.012508152802581711\n",
      "Node: great, Degree Centrality: 0.012433868081663526\n",
      "Node: tom, Degree Centrality: 0.012394874049275386\n",
      "Node: flow, Degree Centrality: 0.012352830204298232\n",
      "Node: treatment, Degree Centrality: 0.012160692011190199\n",
      "Node: Pnan, Degree Centrality: 0.01196550400549315\n",
      "Node: acid, Degree Centrality: 0.011859849783659365\n",
      "Node: ward, Degree Centrality: 0.011831312251576426\n",
      "Node: proved, Degree Centrality: 0.01180233903198077\n",
      "Node: efficient, Degree Centrality: 0.011774672874923266\n",
      "Node: bout, Degree Centrality: 0.011746571030353042\n",
      "Node: dow, Degree Centrality: 0.01171324093563022\n",
      "Node: source, Degree Centrality: 0.011522845492573054\n",
      "Node: gas, Degree Centrality: 0.01150389308576988\n",
      "Node: city, Degree Centrality: 0.011494961491759189\n",
      "Node: production, Degree Centrality: 0.011286049329411565\n",
      "Node: group, Degree Centrality: 0.011243787640678052\n",
      "Node: related, Degree Centrality: 0.011201961639457256\n",
      "Node: mediate, Degree Centrality: 0.011175166857425183\n",
      "Node: produced, Degree Centrality: 0.011045767666148345\n",
      "Node: portion, Degree Centrality: 0.010958848007361377\n",
      "Node: energy, Degree Centrality: 0.01092617144390763\n"
     ]
    }
   ],
   "source": [
    "# Print the top 10 nodes with highest degree centrality\n",
    "print(\"Top 10 nodes with highest degree centrality:\")\n",
    "for node in sorted(degree_centrality, key=degree_centrality.get, reverse=True)[:100]:\n",
    "    print(f\"Node: {node}, Degree Centrality: {degree_centrality[node]}\")"
   ]
  },
  {
   "cell_type": "code",
   "execution_count": 26,
   "metadata": {},
   "outputs": [],
   "source": [
    "betweenness_centrality = nx.betweenness_centrality(G, k=10)"
   ]
  },
  {
   "cell_type": "code",
   "execution_count": null,
   "metadata": {},
   "outputs": [],
   "source": [
    "eigenvector_centrality = nx.eigenvector_centrality(G)"
   ]
  },
  {
   "cell_type": "code",
   "execution_count": 29,
   "metadata": {},
   "outputs": [
    {
     "data": {
      "text/plain": [
       "3.976164601921421e-08"
      ]
     },
     "execution_count": 29,
     "metadata": {},
     "output_type": "execute_result"
    }
   ],
   "source": [
    "betweenness_centrality['wind energy']"
   ]
  }
 ],
 "metadata": {
  "kernelspec": {
   "display_name": "venv",
   "language": "python",
   "name": "python3"
  },
  "language_info": {
   "codemirror_mode": {
    "name": "ipython",
    "version": 3
   },
   "file_extension": ".py",
   "mimetype": "text/x-python",
   "name": "python",
   "nbconvert_exporter": "python",
   "pygments_lexer": "ipython3",
   "version": "3.10.0"
  }
 },
 "nbformat": 4,
 "nbformat_minor": 2
}
