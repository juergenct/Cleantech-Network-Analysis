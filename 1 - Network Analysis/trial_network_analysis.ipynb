{
 "cells": [
  {
   "cell_type": "code",
   "execution_count": 1,
   "metadata": {},
   "outputs": [],
   "source": [
    "import pandas as pd\n",
    "import networkx as nx"
   ]
  },
  {
   "cell_type": "code",
   "execution_count": null,
   "metadata": {},
   "outputs": [],
   "source": [
    "df_authors = pd.read_csv('/mnt/hdd01/Cleantech Network Analysis/df_authors.csv', dtype={'author_id': str, 'oaid': str, 'appln_id': str})\n",
    "df_authors = df_authors[['appln_id', 'oaid', 'author_id']]\n",
    "df_rel_pcs = pd.read_csv('/mnt/hdd01/Cleantech Network Analysis/df_rel_pcs_patstat.csv')\n",
    "df_oaid_cleantech_dtm = pd.read_csv('/mnt/hdd01/Cleantech Network Analysis/df_oaid_cleantech_dtm.csv')\n",
    "df_patstat_cleantech_dtm = pd.read_csv('/mnt/hdd01/Cleantech Network Analysis/df_patstat_cleantech_dtm.csv')\n",
    "df_cleantech_keyword = pd.read_json(\"/home/thiesen/Documents/Cleantech_Concepts/cleantech_keywords_similarity_015_co_occurrence_025_claim_fulltext.json\")"
   ]
  },
  {
   "cell_type": "markdown",
   "metadata": {},
   "source": [
    "# Add general indices too all nodes and edges in the dataframes"
   ]
  },
  {
   "cell_type": "code",
   "execution_count": null,
   "metadata": {},
   "outputs": [],
   "source": [
    "asdf"
   ]
  },
  {
   "cell_type": "markdown",
   "metadata": {},
   "source": [
    "# Build Graph Model"
   ]
  },
  {
   "cell_type": "code",
   "execution_count": 7,
   "metadata": {},
   "outputs": [],
   "source": [
    "G = nx.Graph()"
   ]
  },
  {
   "cell_type": "code",
   "execution_count": null,
   "metadata": {},
   "outputs": [],
   "source": [
    "for node in df_authors['author_id']:\n",
    "    G.add_node(node, node_type='author')\n",
    "\n",
    "for node in df_patstat_cleantech_dtm['appln_id']:\n",
    "    G.add_node(node, node_type='patent')\n",
    "\n",
    "for node in df_oaid_cleantech_dtm['oaid']:\n",
    "    G.add_node(node, node_type='paper')\n",
    "\n",
    "for node in df_cleantech_keyword['keyword_yake_lemma']:\n",
    "    G.add_node(node, node_type='keyword')"
   ]
  },
  {
   "cell_type": "code",
   "execution_count": null,
   "metadata": {},
   "outputs": [],
   "source": [
    "G.add_edges_from(df_rel_pcs[['appln_id', 'oaid']].values)\n",
    "G.add_edges_from(df_authors[['appln_id', 'author_id']].values)\n",
    "G.add_edges_from(df_authors[['oaid', 'author_id']].values)\n",
    "G.add_edges_from(df_oaid_cleantech_dtm[['oaid', 'keyword_yake_lemma']].values)\n",
    "G.add_edges_from(df_patstat_cleantech_dtm[['appln_id', 'keyword_yake_lemma']].values)"
   ]
  },
  {
   "cell_type": "markdown",
   "metadata": {},
   "source": [
    "# Analyze Centrality Measures"
   ]
  },
  {
   "cell_type": "code",
   "execution_count": null,
   "metadata": {},
   "outputs": [],
   "source": [
    "degree_centrality = nx.degree_centrality(G)"
   ]
  },
  {
   "cell_type": "code",
   "execution_count": null,
   "metadata": {},
   "outputs": [],
   "source": [
    "betweenness_centrality = nx.betweenness_centrality(G)"
   ]
  },
  {
   "cell_type": "code",
   "execution_count": null,
   "metadata": {},
   "outputs": [],
   "source": [
    "eigenvector_centrality = nx.eigenvector_centrality(G)"
   ]
  }
 ],
 "metadata": {
  "kernelspec": {
   "display_name": "venv",
   "language": "python",
   "name": "python3"
  },
  "language_info": {
   "codemirror_mode": {
    "name": "ipython",
    "version": 3
   },
   "file_extension": ".py",
   "mimetype": "text/x-python",
   "name": "python",
   "nbconvert_exporter": "python",
   "pygments_lexer": "ipython3",
   "version": "3.10.0"
  }
 },
 "nbformat": 4,
 "nbformat_minor": 2
}
